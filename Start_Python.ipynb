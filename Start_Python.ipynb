{
  "nbformat": 4,
  "nbformat_minor": 0,
  "metadata": {
    "colab": {
      "name": "Start-Python.ipynb",
      "provenance": [],
      "collapsed_sections": [
        "2DdG9aDGK_LX"
      ],
      "toc_visible": true,
      "authorship_tag": "ABX9TyMmnwYC4MLEUhoimW/RmRI8",
      "include_colab_link": true
    },
    "kernelspec": {
      "name": "python3",
      "display_name": "Python 3"
    },
    "language_info": {
      "name": "python"
    }
  },
  "cells": [
    {
      "cell_type": "markdown",
      "metadata": {
        "id": "view-in-github",
        "colab_type": "text"
      },
      "source": [
        "<a href=\"https://colab.research.google.com/github/HINESIV/devops-python/blob/main/Start_Python.ipynb\" target=\"_parent\"><img src=\"https://colab.research.google.com/assets/colab-badge.svg\" alt=\"Open In Colab\"/></a>"
      ]
    },
    {
      "cell_type": "markdown",
      "source": [
        "#Begin Python Script"
      ],
      "metadata": {
        "id": "OZoMZYOHJWP7"
      }
    },
    {
      "cell_type": "code",
      "execution_count": 21,
      "metadata": {
        "colab": {
          "base_uri": "https://localhost:8080/"
        },
        "id": "ETAjLMliHoLp",
        "outputId": "8680a14a-9c8e-4776-e9a0-3ca707784165"
      },
      "outputs": [
        {
          "output_type": "stream",
          "name": "stdout",
          "text": [
            "This is DevOPs Project\n"
          ]
        }
      ],
      "source": [
        "name = \"DevOPs\"\n",
        "print(f\"This is {name} Project\")"
      ]
    },
    {
      "cell_type": "markdown",
      "source": [
        "##DataStuctures:List and Dictionaries"
      ],
      "metadata": {
        "id": "kEdjytGkLGkJ"
      }
    },
    {
      "cell_type": "markdown",
      "source": [
        "**Do you need a List?"
      ],
      "metadata": {
        "id": "3DgiHxlnQY-H"
      }
    },
    {
      "cell_type": "code",
      "source": [
        "Devices = [\"ASA\", \"FTD\", \"Nexus\", \"Catalyst\"]"
      ],
      "metadata": {
        "id": "tyavS-6VNH19"
      },
      "execution_count": 22,
      "outputs": []
    },
    {
      "cell_type": "code",
      "source": [
        "for device in Devices:\n",
        "    print(f\"A Cisco network constist of {device}.\")\n",
        "   "
      ],
      "metadata": {
        "colab": {
          "base_uri": "https://localhost:8080/"
        },
        "id": "adWj4rYbNSyx",
        "outputId": "5f8af809-2d17-4e6d-d4b6-09e8bd4579da"
      },
      "execution_count": 23,
      "outputs": [
        {
          "output_type": "stream",
          "name": "stdout",
          "text": [
            "A Cisco network constist of ASA.\n",
            "A Cisco network constist of FTD.\n",
            "A Cisco network constist of Nexus.\n",
            "A Cisco network constist of Catalyst.\n"
          ]
        }
      ]
    },
    {
      "cell_type": "markdown",
      "source": [
        "**Do you need Dictionary?"
      ],
      "metadata": {
        "id": "RVTy6CSLQjWF"
      }
    },
    {
      "cell_type": "code",
      "source": [
        "branch = {\"California\": \"1.1.1.4\", \"Texas\": \"1.1.1.3\", \"New York\": \"1.1.1.1\", \"Florida\": \"1.1.1.2\"}"
      ],
      "metadata": {
        "id": "mntdYLCOQrbj"
      },
      "execution_count": 24,
      "outputs": []
    },
    {
      "cell_type": "code",
      "source": [
        "branch.keys()"
      ],
      "metadata": {
        "colab": {
          "base_uri": "https://localhost:8080/"
        },
        "id": "6dM_i5BcRqRR",
        "outputId": "8f77cfbe-ee5c-43b9-bcd8-93346adab708"
      },
      "execution_count": 25,
      "outputs": [
        {
          "output_type": "execute_result",
          "data": {
            "text/plain": [
              "dict_keys(['California', 'Texas', 'New York', 'Florida'])"
            ]
          },
          "metadata": {},
          "execution_count": 25
        }
      ]
    },
    {
      "cell_type": "code",
      "source": [
        "branch.values()"
      ],
      "metadata": {
        "colab": {
          "base_uri": "https://localhost:8080/"
        },
        "id": "8SBYxZJHSCtx",
        "outputId": "b5ade4e3-e187-4f3f-9a96-dc894cb353e7"
      },
      "execution_count": 26,
      "outputs": [
        {
          "output_type": "execute_result",
          "data": {
            "text/plain": [
              "dict_values(['1.1.1.4', '1.1.1.3', '1.1.1.1', '1.1.1.2'])"
            ]
          },
          "metadata": {},
          "execution_count": 26
        }
      ]
    },
    {
      "cell_type": "code",
      "source": [
        "for branch_name, branch_ip in branch.items():\n",
        "    print(f'The Gateway IP for the {branch_name} branch is [{branch_ip}]')"
      ],
      "metadata": {
        "colab": {
          "base_uri": "https://localhost:8080/"
        },
        "id": "Cb4_4CN9TxY6",
        "outputId": "d82544f9-06ba-4b70-fe53-59a636c063e9"
      },
      "execution_count": 27,
      "outputs": [
        {
          "output_type": "stream",
          "name": "stdout",
          "text": [
            "The Gateway IP for the California branch is [1.1.1.4]\n",
            "The Gateway IP for the Texas branch is [1.1.1.3]\n",
            "The Gateway IP for the New York branch is [1.1.1.1]\n",
            "The Gateway IP for the Florida branch is [1.1.1.2]\n"
          ]
        }
      ]
    },
    {
      "cell_type": "markdown",
      "source": [
        "# New Section"
      ],
      "metadata": {
        "id": "2DdG9aDGK_LX"
      }
    },
    {
      "cell_type": "markdown",
      "source": [
        ""
      ],
      "metadata": {
        "id": "KTu4FkjRJ62a"
      }
    }
  ]
}